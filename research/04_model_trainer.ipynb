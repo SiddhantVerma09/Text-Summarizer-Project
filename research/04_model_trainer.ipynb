{
 "cells": [
  {
   "cell_type": "code",
   "execution_count": 1,
   "id": "2b71ad0c",
   "metadata": {},
   "outputs": [],
   "source": [
    "import os"
   ]
  },
  {
   "cell_type": "code",
   "execution_count": 2,
   "id": "ec6dddd1",
   "metadata": {},
   "outputs": [],
   "source": [
    "os.chdir(\"../\")"
   ]
  },
  {
   "cell_type": "code",
   "execution_count": 3,
   "id": "b3d73ceb",
   "metadata": {},
   "outputs": [
    {
     "data": {
      "text/plain": [
       "'c:\\\\Users\\\\siddh\\\\OneDrive\\\\Desktop\\\\PERSONAL\\\\College\\\\Text-Summarizer-Project'"
      ]
     },
     "execution_count": 3,
     "metadata": {},
     "output_type": "execute_result"
    }
   ],
   "source": [
    "%pwd"
   ]
  },
  {
   "cell_type": "code",
   "execution_count": 4,
   "id": "47b8ff0e",
   "metadata": {},
   "outputs": [],
   "source": [
    "from dataclasses import dataclass\n",
    "from pathlib import Path\n",
    "\n",
    "\n",
    "@dataclass(frozen=True)\n",
    "class ModelTrainerConfig:\n",
    "    root_dir: Path\n",
    "    data_path: Path\n",
    "    model_ckpt: Path\n",
    "    num_train_epochs: int\n",
    "    warmup_steps: int\n",
    "    per_device_train_batch_size: int\n",
    "    per_device_eval_batch_size: int  # ADD THIS\n",
    "    weight_decay: float\n",
    "    logging_steps: int\n",
    "    evaluation_strategy: str\n",
    "    eval_steps: int\n",
    "    save_steps: float\n",
    "    gradient_accumulation_steps: int\n",
    "    fp16: bool  # ADD THIS\n",
    "    report_to: list  # ADD THIS"
   ]
  },
  {
   "cell_type": "code",
   "execution_count": 5,
   "id": "2e6b0c25",
   "metadata": {},
   "outputs": [],
   "source": [
    "from textSummarizer.constants import *\n",
    "from textSummarizer.utils.common import read_yaml, create_directories"
   ]
  },
  {
   "cell_type": "code",
   "execution_count": 6,
   "id": "08edb187",
   "metadata": {},
   "outputs": [],
   "source": [
    "class ConfigurationManager:\n",
    "    def __init__(\n",
    "        self,\n",
    "        config_filepath = CONFIG_FILE_PATH,\n",
    "        params_filepath = PARAMS_FILE_PATH):\n",
    "\n",
    "        self.config = read_yaml(config_filepath)\n",
    "        self.params = read_yaml(params_filepath)\n",
    "\n",
    "        create_directories([self.config.artifacts_root])\n",
    "\n",
    "\n",
    "    \n",
    "    def get_model_trainer_config(self) -> ModelTrainerConfig:\n",
    "        config = self.config.model_trainer\n",
    "        params = self.params.TrainingArguments\n",
    "\n",
    "        create_directories([config.root_dir])\n",
    "\n",
    "        model_trainer_config = ModelTrainerConfig(\n",
    "            root_dir=config.root_dir,\n",
    "            data_path=config.data_path,\n",
    "            model_ckpt = config.model_ckpt,\n",
    "            num_train_epochs = params.num_train_epochs,\n",
    "            warmup_steps = params.warmup_steps,\n",
    "            per_device_train_batch_size = params.per_device_train_batch_size,\n",
    "            per_device_eval_batch_size = params.per_device_eval_batch_size,  # ADD THIS\n",
    "            weight_decay = params.weight_decay,\n",
    "            logging_steps = params.logging_steps,\n",
    "            evaluation_strategy = params.evaluation_strategy,\n",
    "            eval_steps = params.eval_steps,  # FIX: was params.evaluation_strategy\n",
    "            save_steps = params.save_steps,\n",
    "            gradient_accumulation_steps = params.gradient_accumulation_steps,\n",
    "            fp16 = params.fp16,  # ADD THIS\n",
    "            report_to = params.report_to  # ADD THIS\n",
    "        )\n",
    "\n",
    "        return model_trainer_config"
   ]
  },
  {
   "cell_type": "code",
   "execution_count": 7,
   "id": "7e678753",
   "metadata": {},
   "outputs": [
    {
     "name": "stderr",
     "output_type": "stream",
     "text": [
      "c:\\Users\\siddh\\OneDrive\\Desktop\\PERSONAL\\College\\Text-Summarizer-Project\\textS\\lib\\site-packages\\tqdm\\auto.py:21: TqdmWarning: IProgress not found. Please update jupyter and ipywidgets. See https://ipywidgets.readthedocs.io/en/stable/user_install.html\n",
      "  from .autonotebook import tqdm as notebook_tqdm\n"
     ]
    },
    {
     "name": "stdout",
     "output_type": "stream",
     "text": [
      "[2025-06-11 23:11:09,451] INFO: config: PyTorch version 2.6.0 available.]\n"
     ]
    }
   ],
   "source": [
    "import os\n",
    "import torch\n",
    "import gc\n",
    "from transformers import TrainingArguments, Trainer\n",
    "from transformers import DataCollatorForSeq2Seq\n",
    "from transformers import AutoModelForSeq2SeqLM, AutoTokenizer\n",
    "from datasets import load_dataset, load_from_disk\n",
    "\n",
    "class ModelTrainer:\n",
    "    def __init__(self, config: ModelTrainerConfig):\n",
    "        self.config = config\n",
    "\n",
    "    def train(self):\n",
    "        # Clear GPU memory and check availability\n",
    "        if torch.cuda.is_available():\n",
    "            torch.cuda.empty_cache()\n",
    "            print(f\"GPU available: {torch.cuda.get_device_name(0)}\")\n",
    "            print(f\"GPU memory: {torch.cuda.get_device_properties(0).total_memory / 1024**3:.1f}GB\")\n",
    "        else:\n",
    "            print(\"GPU not available, using CPU (will be slower)\")\n",
    "        \n",
    "        device = \"cuda\" if torch.cuda.is_available() else \"cpu\"\n",
    "        print(f\"Using device: {device}\")\n",
    "        \n",
    "        # Load tokenizer and model with optimizations\n",
    "        tokenizer = AutoTokenizer.from_pretrained(self.config.model_ckpt)\n",
    "        model_t5 = AutoModelForSeq2SeqLM.from_pretrained(\n",
    "            self.config.model_ckpt,\n",
    "            torch_dtype=torch.float16 if torch.cuda.is_available() else torch.float32,\n",
    "        ).to(device)\n",
    "        \n",
    "        seq2seq_data_collator = DataCollatorForSeq2Seq(tokenizer, model=model_t5)\n",
    "        \n",
    "        # Loading data \n",
    "        dataset_samsum_pt = load_from_disk(self.config.data_path)\n",
    "        \n",
    "        # Re-tokenize with T5 tokenizer to fix vocabulary mismatch\n",
    "        def retokenize_function(examples):\n",
    "            # Add T5 task prefix\n",
    "            inputs = [\"summarize: \" + doc for doc in examples[\"dialogue\"]]\n",
    "            model_inputs = tokenizer(inputs, max_length=512, truncation=True, padding=False)\n",
    "            \n",
    "            # Tokenize targets\n",
    "            with tokenizer.as_target_tokenizer():\n",
    "                labels = tokenizer(examples[\"summary\"], max_length=128, truncation=True, padding=False)\n",
    "            \n",
    "            model_inputs[\"labels\"] = labels[\"input_ids\"]\n",
    "            return model_inputs\n",
    "        \n",
    "        # Re-tokenize the dataset and remove problematic columns\n",
    "        print(\"Re-tokenizing dataset with T5 tokenizer...\")\n",
    "        dataset_samsum_pt = dataset_samsum_pt.map(\n",
    "            retokenize_function, \n",
    "            batched=True,\n",
    "            remove_columns=dataset_samsum_pt[\"train\"].column_names  # Remove all original columns\n",
    "        )\n",
    "        \n",
    "        # Use smaller dataset for faster training (remove these lines for full dataset)\n",
    "        print(\"Using subset of data for faster training...\")\n",
    "        train_dataset = dataset_samsum_pt[\"train\"].select(range(2000))  # Use 2000 samples instead of ~14k\n",
    "        eval_dataset = dataset_samsum_pt[\"validation\"].select(range(400))  # Use 400 samples instead of ~800\n",
    "        \n",
    "        print(f\"Training on {len(train_dataset)} samples\")\n",
    "        print(f\"Evaluating on {len(eval_dataset)} samples\")\n",
    "        \n",
    "        # Optimized training arguments\n",
    "        trainer_args = TrainingArguments(\n",
    "            output_dir=self.config.root_dir,\n",
    "            num_train_epochs=1,  # Reduced from 3 to 1 for testing\n",
    "            warmup_steps=50,     # Reduced from 500\n",
    "            per_device_train_batch_size=4,  # Increased from 2\n",
    "            per_device_eval_batch_size=4,   # Increased from 2\n",
    "            weight_decay=0.01,\n",
    "            logging_steps=10,\n",
    "            eval_strategy='steps',\n",
    "            eval_steps=50,       # Reduced from 500\n",
    "            save_steps=100,      # Reduced from 1000\n",
    "            gradient_accumulation_steps=2,  # Reduced from 8\n",
    "            fp16=True,           # Enable mixed precision for speed\n",
    "            dataloader_pin_memory=True,     # Enable for GPU\n",
    "            dataloader_num_workers=0,       # Set to 0 to avoid multiprocessing issues\n",
    "            max_steps=500,       # Limit total steps for testing\n",
    "            save_total_limit=2,  # Keep only 2 checkpoints\n",
    "            load_best_model_at_end=True,\n",
    "            metric_for_best_model=\"eval_loss\",\n",
    "            report_to=[],        # Disable wandb\n",
    "            remove_unused_columns=True,  # Remove unused columns automatically\n",
    "        )\n",
    "        \n",
    "        # Create trainer\n",
    "        trainer = Trainer(\n",
    "            model=model_t5, \n",
    "            args=trainer_args,\n",
    "            tokenizer=tokenizer, \n",
    "            data_collator=seq2seq_data_collator,\n",
    "            train_dataset=train_dataset,  # Use smaller dataset\n",
    "            eval_dataset=eval_dataset     # Use smaller dataset\n",
    "        )\n",
    "        \n",
    "        print(\"Starting training...\")\n",
    "        trainer.train()\n",
    "        \n",
    "        print(\"Training completed! Saving model...\")\n",
    "        \n",
    "        # Save model and tokenizer\n",
    "        model_t5.save_pretrained(os.path.join(self.config.root_dir, \"t5-samsum-model\"))\n",
    "        tokenizer.save_pretrained(os.path.join(self.config.root_dir, \"tokenizer\"))\n",
    "        \n",
    "        print(f\"Model saved to: {os.path.join(self.config.root_dir, 't5-samsum-model')}\")\n",
    "        print(f\"Tokenizer saved to: {os.path.join(self.config.root_dir, 'tokenizer')}\")\n",
    "        \n",
    "        # Clear GPU memory after training\n",
    "        if torch.cuda.is_available():\n",
    "            torch.cuda.empty_cache()"
   ]
  },
  {
   "cell_type": "code",
   "execution_count": 8,
   "id": "a3c5ecc8",
   "metadata": {},
   "outputs": [
    {
     "name": "stdout",
     "output_type": "stream",
     "text": [
      "[2025-06-11 23:11:10,162] INFO: common: yaml file: config\\config.yaml loaded successfully]\n",
      "[2025-06-11 23:11:10,170] INFO: common: yaml file: params.yaml loaded successfully]\n",
      "[2025-06-11 23:11:10,172] INFO: common: created directory at: artifacts]\n",
      "[2025-06-11 23:11:10,174] INFO: common: created directory at: artifacts/model_trainer]\n",
      "GPU not available, using CPU (will be slower)\n",
      "Using device: cpu\n",
      "Re-tokenizing dataset with T5 tokenizer...\n"
     ]
    },
    {
     "name": "stderr",
     "output_type": "stream",
     "text": [
      "Map:   0%|          | 0/14732 [00:00<?, ? examples/s]c:\\Users\\siddh\\OneDrive\\Desktop\\PERSONAL\\College\\Text-Summarizer-Project\\textS\\lib\\site-packages\\transformers\\tokenization_utils_base.py:3959: UserWarning: `as_target_tokenizer` is deprecated and will be removed in v5 of Transformers. You can tokenize your labels by using the argument `text_target` of the regular `__call__` method (either in the same call as your input texts if you use the same keyword arguments, or in a separate call.\n",
      "  warnings.warn(\n",
      "Map: 100%|██████████| 14732/14732 [00:03<00:00, 3922.62 examples/s]\n",
      "Map: 100%|██████████| 819/819 [00:00<00:00, 3908.12 examples/s]\n",
      "Map: 100%|██████████| 818/818 [00:00<00:00, 4407.31 examples/s]\n",
      "C:\\Users\\siddh\\AppData\\Local\\Temp\\ipykernel_25300\\1462893022.py:91: FutureWarning: `tokenizer` is deprecated and will be removed in version 5.0.0 for `Trainer.__init__`. Use `processing_class` instead.\n",
      "  trainer = Trainer(\n"
     ]
    },
    {
     "name": "stdout",
     "output_type": "stream",
     "text": [
      "Using subset of data for faster training...\n",
      "Training on 2000 samples\n",
      "Evaluating on 400 samples\n",
      "Starting training...\n"
     ]
    },
    {
     "name": "stderr",
     "output_type": "stream",
     "text": [
      "Passing a tuple of `past_key_values` is deprecated and will be removed in Transformers v4.48.0. You should pass an instance of `EncoderDecoderCache` instead, e.g. `past_key_values=EncoderDecoderCache.from_legacy_cache(past_key_values)`.\n"
     ]
    },
    {
     "data": {
      "text/html": [
       "\n",
       "    <div>\n",
       "      \n",
       "      <progress value='500' max='500' style='width:300px; height:20px; vertical-align: middle;'></progress>\n",
       "      [500/500 39:09, Epoch 2/2]\n",
       "    </div>\n",
       "    <table border=\"1\" class=\"dataframe\">\n",
       "  <thead>\n",
       " <tr style=\"text-align: left;\">\n",
       "      <th>Step</th>\n",
       "      <th>Training Loss</th>\n",
       "      <th>Validation Loss</th>\n",
       "    </tr>\n",
       "  </thead>\n",
       "  <tbody>\n",
       "    <tr>\n",
       "      <td>50</td>\n",
       "      <td>2.564300</td>\n",
       "      <td>2.196485</td>\n",
       "    </tr>\n",
       "    <tr>\n",
       "      <td>100</td>\n",
       "      <td>2.195500</td>\n",
       "      <td>2.015077</td>\n",
       "    </tr>\n",
       "    <tr>\n",
       "      <td>150</td>\n",
       "      <td>2.327900</td>\n",
       "      <td>1.964090</td>\n",
       "    </tr>\n",
       "    <tr>\n",
       "      <td>200</td>\n",
       "      <td>2.206000</td>\n",
       "      <td>1.938570</td>\n",
       "    </tr>\n",
       "    <tr>\n",
       "      <td>250</td>\n",
       "      <td>2.237500</td>\n",
       "      <td>1.923598</td>\n",
       "    </tr>\n",
       "    <tr>\n",
       "      <td>300</td>\n",
       "      <td>2.159300</td>\n",
       "      <td>1.914429</td>\n",
       "    </tr>\n",
       "    <tr>\n",
       "      <td>350</td>\n",
       "      <td>2.064800</td>\n",
       "      <td>1.908763</td>\n",
       "    </tr>\n",
       "    <tr>\n",
       "      <td>400</td>\n",
       "      <td>2.053000</td>\n",
       "      <td>1.907045</td>\n",
       "    </tr>\n",
       "    <tr>\n",
       "      <td>450</td>\n",
       "      <td>2.168800</td>\n",
       "      <td>1.901887</td>\n",
       "    </tr>\n",
       "    <tr>\n",
       "      <td>500</td>\n",
       "      <td>2.084800</td>\n",
       "      <td>1.900143</td>\n",
       "    </tr>\n",
       "  </tbody>\n",
       "</table><p>"
      ],
      "text/plain": [
       "<IPython.core.display.HTML object>"
      ]
     },
     "metadata": {},
     "output_type": "display_data"
    },
    {
     "name": "stderr",
     "output_type": "stream",
     "text": [
      "There were missing keys in the checkpoint model loaded: ['encoder.embed_tokens.weight', 'decoder.embed_tokens.weight', 'lm_head.weight'].\n"
     ]
    },
    {
     "name": "stdout",
     "output_type": "stream",
     "text": [
      "Training completed! Saving model...\n",
      "Model saved to: artifacts/model_trainer\\t5-samsum-model\n",
      "Tokenizer saved to: artifacts/model_trainer\\tokenizer\n"
     ]
    }
   ],
   "source": [
    "# Run training\n",
    "try:\n",
    "    config = ConfigurationManager()\n",
    "    model_trainer_config = config.get_model_trainer_config()\n",
    "    model_trainer = ModelTrainer(config=model_trainer_config)\n",
    "    model_trainer.train()\n",
    "except Exception as e:\n",
    "    # Clean up memory on error\n",
    "    if torch.cuda.is_available():\n",
    "        torch.cuda.empty_cache()\n",
    "    raise e"
   ]
  }
 ],
 "metadata": {
  "kernelspec": {
   "display_name": "textS",
   "language": "python",
   "name": "python3"
  },
  "language_info": {
   "codemirror_mode": {
    "name": "ipython",
    "version": 3
   },
   "file_extension": ".py",
   "mimetype": "text/x-python",
   "name": "python",
   "nbconvert_exporter": "python",
   "pygments_lexer": "ipython3",
   "version": "3.10.11"
  }
 },
 "nbformat": 4,
 "nbformat_minor": 5
}
